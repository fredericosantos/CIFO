{
 "cells": [
  {
   "cell_type": "code",
   "execution_count": 2,
   "metadata": {},
   "outputs": [],
   "source": [
    "from tsp_data import distance_matrix\n",
    "from ks_data import values, weights\n",
    "from main import Individual, BasePopulation\n",
    "import tsp, ks\n",
    "from hill_climbing.hc import hill_climb\n",
    "from simulated_annealing.sa import simulated_annealing\n",
    "import numpy as np\n",
    "import random\n"
   ]
  },
  {
   "cell_type": "markdown",
   "metadata": {},
   "source": [
    "#### TSP"
   ]
  },
  {
   "cell_type": "code",
   "execution_count": 3,
   "metadata": {},
   "outputs": [],
   "source": [
    "# Hill Climbing\n",
    "valid_set = range(len(distance_matrix))\n",
    "pop_number = 10\n",
    "individuals = [\n",
    "    Individual(random.sample(valid_set, len(distance_matrix)))\n",
    "    for _ in range(pop_number)\n",
    "]\n",
    "pop = tsp.Population(individuals=individuals, optimization=\"min\", n_elites=2)\n",
    "hill_climb(pop=pop, verbose=False)"
   ]
  },
  {
   "cell_type": "code",
   "execution_count": 3,
   "metadata": {},
   "outputs": [
    {
     "name": "stdout",
     "output_type": "stream",
     "text": [
      "[Individual <12135>, Individual <10682>, Individual <11847>, Individual <15384>, Individual <12558>, Individual <12244>, Individual <12949>, Individual <11467>, Individual <8873>, Individual <10407>]\n",
      "[Individual <8873>, Individual <10407>]\n"
     ]
    }
   ],
   "source": [
    "print(pop.individuals)\n",
    "print(pop.elites)"
   ]
  },
  {
   "cell_type": "code",
   "execution_count": 4,
   "metadata": {},
   "outputs": [],
   "source": [
    "# Simulated Annealing\n",
    "valid_set = range(len(distance_matrix))\n",
    "pop_number = 20\n",
    "individuals = [\n",
    "    Individual(random.sample(valid_set, len(distance_matrix)))\n",
    "    for _ in range(pop_number)\n",
    "]\n",
    "\n",
    "pop = tsp.Population(individuals=individuals, optimization=\"min\", n_elites=1)\n",
    "simulated_annealing(\n",
    "    pop=pop, L=100, c=100\n",
    ")\n",
    "\n"
   ]
  },
  {
   "cell_type": "code",
   "execution_count": 5,
   "metadata": {},
   "outputs": [
    {
     "name": "stdout",
     "output_type": "stream",
     "text": [
      "[Individual <8312>, Individual <11470>, Individual <11307>, Individual <9928>, Individual <11542>, Individual <12363>, Individual <11473>, Individual <12599>, Individual <12366>, Individual <12525>, Individual <8609>, Individual <12313>, Individual <8839>, Individual <10660>, Individual <10633>, Individual <10783>, Individual <10059>, Individual <8278>, Individual <7692>, Individual <9284>]\n",
      "[Individual <7692>]\n"
     ]
    }
   ],
   "source": [
    "print(pop.individuals)\n",
    "print(pop.elites)"
   ]
  },
  {
   "cell_type": "code",
   "execution_count": 6,
   "metadata": {},
   "outputs": [],
   "source": [
    "individuals = [\n",
    "    Individual(random.sample(valid_set, len(distance_matrix)))\n",
    "    for _ in range(pop_number)\n",
    "]\n",
    "pop1 = tsp.Population(individuals=individuals, optimization=\"min\", n_elites=2)"
   ]
  },
  {
   "cell_type": "code",
   "execution_count": 7,
   "metadata": {},
   "outputs": [
    {
     "data": {
      "text/plain": [
       "[Individual <8312>,\n",
       " Individual <11470>,\n",
       " Individual <11307>,\n",
       " Individual <9928>,\n",
       " Individual <11542>,\n",
       " Individual <12363>,\n",
       " Individual <11473>,\n",
       " Individual <12599>,\n",
       " Individual <12366>,\n",
       " Individual <12525>,\n",
       " Individual <8609>,\n",
       " Individual <12313>,\n",
       " Individual <8839>,\n",
       " Individual <10660>,\n",
       " Individual <10633>,\n",
       " Individual <10783>,\n",
       " Individual <10059>,\n",
       " Individual <8278>,\n",
       " Individual <7692>,\n",
       " Individual <9284>]"
      ]
     },
     "execution_count": 7,
     "metadata": {},
     "output_type": "execute_result"
    }
   ],
   "source": [
    "pop.individuals"
   ]
  },
  {
   "cell_type": "markdown",
   "metadata": {},
   "source": [
    "#### KS"
   ]
  },
  {
   "cell_type": "code",
   "execution_count": 8,
   "metadata": {},
   "outputs": [],
   "source": [
    "# Hill Climbing\n",
    "valid_set = [0, 1]\n",
    "pop_number = 1\n",
    "individuals = [\n",
    "    Individual([random.choice(valid_set) for i in range(len(values))])\n",
    "    for _ in range(pop_number)\n",
    "]\n",
    "pop = ks.Population(individuals=individuals, optimization=\"max\")\n",
    "hill_climb(pop=pop)"
   ]
  },
  {
   "cell_type": "code",
   "execution_count": 4,
   "metadata": {},
   "outputs": [],
   "source": [
    "# Simulated Annealing\n",
    "valid_set = [0, 1]\n",
    "pop_number = 20\n",
    "individuals = [\n",
    "    Individual([random.choice(valid_set) for i in range(len(values))])\n",
    "    for _ in range(pop_number)\n",
    "]\n",
    "pop = ks.Population(individuals=individuals, optimization=\"max\")\n",
    "simulated_annealing(pop=pop, L=100, c=200)"
   ]
  },
  {
   "cell_type": "markdown",
   "metadata": {},
   "source": [
    "#### **Coding**"
   ]
  },
  {
   "cell_type": "code",
   "execution_count": 4,
   "metadata": {},
   "outputs": [
    {
     "data": {
      "text/plain": [
       "array([0.09190773, 0.10944964, 0.07954323, 0.1197023 , 0.12104775,\n",
       "       0.09756201, 0.10001448, 0.08952339, 0.1045873 , 0.08666218])"
      ]
     },
     "execution_count": 4,
     "metadata": {},
     "output_type": "execute_result"
    }
   ],
   "source": [
    "a = np.array([i.fitness for i in individuals])\n",
    "a.clip(min=0)\n",
    "b = a/sum(a.clip(min=0))\n",
    "c = (b.clip(min=b[b > 0].min() / 2))\n",
    "c/sum(c)\n",
    "# np.random.choice(individuals, p=c/sum(c)).representation"
   ]
  },
  {
   "cell_type": "code",
   "execution_count": 5,
   "metadata": {},
   "outputs": [
    {
     "data": {
      "text/plain": [
       "10513"
      ]
     },
     "execution_count": 5,
     "metadata": {},
     "output_type": "execute_result"
    }
   ],
   "source": [
    "np.random.choice(a, p=a/sum(a))"
   ]
  },
  {
   "cell_type": "code",
   "execution_count": 8,
   "metadata": {},
   "outputs": [
    {
     "data": {
      "text/plain": [
       "[12853, 14215, 12282]"
      ]
     },
     "execution_count": 8,
     "metadata": {},
     "output_type": "execute_result"
    }
   ],
   "source": [
    "a = [i.fitness for i in individuals]\n",
    "random.sample(a, 3)"
   ]
  },
  {
   "cell_type": "code",
   "execution_count": 46,
   "metadata": {},
   "outputs": [
    {
     "data": {
      "text/plain": [
       "[Individual <10793>,\n",
       " Individual <12853>,\n",
       " Individual <9341>,\n",
       " Individual <14057>,\n",
       " Individual <14215>,\n",
       " Individual <11457>,\n",
       " Individual <11745>,\n",
       " Individual <10513>,\n",
       " Individual <12282>,\n",
       " Individual <10177>]"
      ]
     },
     "execution_count": 46,
     "metadata": {},
     "output_type": "execute_result"
    }
   ],
   "source": [
    "individuals"
   ]
  },
  {
   "cell_type": "code",
   "execution_count": 113,
   "metadata": {},
   "outputs": [
    {
     "data": {
      "text/plain": [
       "Individual <11457>"
      ]
     },
     "execution_count": 113,
     "metadata": {},
     "output_type": "execute_result"
    }
   ],
   "source": [
    "players = random.sample(individuals, 3)\n",
    "sorted(players, key= lambda i: i.fitness * -1)[-1]"
   ]
  },
  {
   "cell_type": "code",
   "execution_count": 128,
   "metadata": {},
   "outputs": [],
   "source": [
    "genes = [\"A\", \"C\", \"G\", \"T\"]"
   ]
  },
  {
   "cell_type": "code",
   "execution_count": 129,
   "metadata": {},
   "outputs": [
    {
     "data": {
      "text/plain": [
       "['A', 'C', 'G', 'T']"
      ]
     },
     "execution_count": 129,
     "metadata": {},
     "output_type": "execute_result"
    }
   ],
   "source": [
    "genes_ = genes.copy()\n",
    "genes_.remove(\"C\")\n",
    "genes"
   ]
  },
  {
   "cell_type": "code",
   "execution_count": null,
   "metadata": {},
   "outputs": [],
   "source": [
    "genes"
   ]
  }
 ],
 "metadata": {
  "interpreter": {
   "hash": "2c4f2e9e15b567a0842db5150f86c99ceb8bc3e0d4f7509559569966cbc05143"
  },
  "kernelspec": {
   "display_name": "Python 3",
   "language": "python",
   "name": "python3"
  },
  "language_info": {
   "codemirror_mode": {
    "name": "ipython",
    "version": 3
   },
   "file_extension": ".py",
   "mimetype": "text/x-python",
   "name": "python",
   "nbconvert_exporter": "python",
   "pygments_lexer": "ipython3",
   "version": "3.9.4"
  },
  "metadata": {
   "interpreter": {
    "hash": "2c4f2e9e15b567a0842db5150f86c99ceb8bc3e0d4f7509559569966cbc05143"
   }
  }
 },
 "nbformat": 4,
 "nbformat_minor": 4
}
