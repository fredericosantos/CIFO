{
 "cells": [
  {
   "cell_type": "code",
   "execution_count": 1,
   "metadata": {},
   "outputs": [],
   "source": [
    "from tsp_data import distance_matrix\n",
    "from ks_data import values, weights\n",
    "from main import Individual, Population\n",
    "import tsp, ks\n",
    "from hill_climbing.hc import hill_climb\n",
    "from simulated_annealing.sa import simulated_annealing\n",
    "import numpy as np\n",
    "import random"
   ]
  },
  {
   "cell_type": "code",
   "execution_count": 2,
   "metadata": {},
   "outputs": [
    {
     "name": "stdout",
     "output_type": "stream",
     "text": [
      "ind.representation = [4, 7, 0, 11, 5, 1, 3, 6, 8, 9, 12, 10, 2]\n",
      "getting neighbours\n",
      "getting neighbours fitness\n",
      "m = -1\n",
      "best_n.fitness = 14152\n",
      "ind.fitness = 15817\n",
      "ind.representation = [4, 7, 0, 11, 5, 1, 3, 6, 8, 12, 9, 10, 2]\n",
      "getting neighbours\n",
      "getting neighbours fitness\n",
      "m = -1\n",
      "best_n.fitness = 12498\n",
      "ind.fitness = 14152\n",
      "ind.representation = [4, 7, 0, 5, 11, 1, 3, 6, 8, 12, 9, 10, 2]\n",
      "getting neighbours\n",
      "getting neighbours fitness\n",
      "m = -1\n",
      "best_n.fitness = 11858\n",
      "ind.fitness = 12498\n",
      "ind.representation = [4, 7, 0, 5, 11, 1, 3, 6, 8, 12, 10, 9, 2]\n",
      "getting neighbours\n",
      "getting neighbours fitness\n",
      "m = -1\n",
      "best_n.fitness = 11897\n",
      "ind.fitness = 11858\n"
     ]
    },
    {
     "data": {
      "text/plain": "<main.Individual at 0x7f0d8d961f10>"
     },
     "execution_count": 2,
     "metadata": {},
     "output_type": "execute_result"
    }
   ],
   "source": [
    "valid_set = range(len(distance_matrix))\n",
    "pop_number = 20\n",
    "individuals = [\n",
    "    Individual(random.sample(valid_set, len(distance_matrix)))\n",
    "    for _ in range(pop_number)\n",
    "]\n",
    "pop = Population(individuals=individuals, optimization=\"min\",)\n",
    "hill_climb(pop=pop, getFitness=tsp.getFitness, getNeighbours=tsp.getNeighbours)\n"
   ]
  },
  {
   "cell_type": "code",
   "execution_count": 3,
   "metadata": {},
   "outputs": [
    {
     "name": "stdout",
     "output_type": "stream",
     "text": [
      "ind.representation = [0, 1, 0, 0, 1, 1, 1, 1, 1, 0, 1, 1, 1, 0, 0, 0, 1, 0, 1, 0, 1, 0, 1, 1, 0, 0, 1, 1, 0, 1, 1, 1, 0, 0, 0, 1, 0, 0, 0, 0, 0, 1, 1, 0, 1, 0, 1, 0, 1, 1]\n",
      "getting neighbours\n",
      "getting neighbours fitness\n"
     ]
    },
    {
     "ename": "AttributeError",
     "evalue": "'list' object has no attribute 'representation'",
     "output_type": "error",
     "traceback": [
      "\u001b[0;31m---------------------------------------------------------------------------\u001b[0m",
      "\u001b[0;31mAttributeError\u001b[0m                            Traceback (most recent call last)",
      "\u001b[0;32m<ipython-input-3-0010005c9def>\u001b[0m in \u001b[0;36m<module>\u001b[0;34m\u001b[0m\n\u001b[1;32m      6\u001b[0m ]\n\u001b[1;32m      7\u001b[0m \u001b[0mpop\u001b[0m \u001b[0;34m=\u001b[0m \u001b[0mPopulation\u001b[0m\u001b[0;34m(\u001b[0m\u001b[0mindividuals\u001b[0m\u001b[0;34m=\u001b[0m\u001b[0mindividuals\u001b[0m\u001b[0;34m,\u001b[0m \u001b[0moptimization\u001b[0m\u001b[0;34m=\u001b[0m\u001b[0;34m\"min\"\u001b[0m\u001b[0;34m,\u001b[0m\u001b[0;34m)\u001b[0m\u001b[0;34m\u001b[0m\u001b[0;34m\u001b[0m\u001b[0m\n\u001b[0;32m----> 8\u001b[0;31m \u001b[0mhill_climb\u001b[0m\u001b[0;34m(\u001b[0m\u001b[0mpop\u001b[0m\u001b[0;34m=\u001b[0m\u001b[0mpop\u001b[0m\u001b[0;34m,\u001b[0m \u001b[0mgetFitness\u001b[0m\u001b[0;34m=\u001b[0m\u001b[0mks\u001b[0m\u001b[0;34m.\u001b[0m\u001b[0mgetFitness\u001b[0m\u001b[0;34m,\u001b[0m \u001b[0mgetNeighbours\u001b[0m\u001b[0;34m=\u001b[0m\u001b[0mks\u001b[0m\u001b[0;34m.\u001b[0m\u001b[0mgetNeighbours\u001b[0m\u001b[0;34m)\u001b[0m\u001b[0;34m\u001b[0m\u001b[0;34m\u001b[0m\u001b[0m\n\u001b[0m",
      "\u001b[0;32m~/nova/spring_21/CIFO/library/hill_climbing/hc.py\u001b[0m in \u001b[0;36mhill_climb\u001b[0;34m(pop, getFitness, getNeighbours)\u001b[0m\n\u001b[1;32m     40\u001b[0m             \u001b[0mprint\u001b[0m\u001b[0;34m(\u001b[0m\u001b[0;34m\"getting neighbours fitness\"\u001b[0m\u001b[0;34m)\u001b[0m\u001b[0;34m\u001b[0m\u001b[0;34m\u001b[0m\u001b[0m\n\u001b[1;32m     41\u001b[0m             \u001b[0;32mfor\u001b[0m \u001b[0mn\u001b[0m \u001b[0;32min\u001b[0m \u001b[0mind\u001b[0m\u001b[0;34m.\u001b[0m\u001b[0mneighbours\u001b[0m\u001b[0;34m:\u001b[0m\u001b[0;34m\u001b[0m\u001b[0;34m\u001b[0m\u001b[0m\n\u001b[0;32m---> 42\u001b[0;31m                 \u001b[0mgetFitness\u001b[0m\u001b[0;34m(\u001b[0m\u001b[0mn\u001b[0m\u001b[0;34m)\u001b[0m\u001b[0;34m\u001b[0m\u001b[0;34m\u001b[0m\u001b[0m\n\u001b[0m\u001b[1;32m     43\u001b[0m             \u001b[0;31m# Calculate fitness of neighbours given optimization type by m\u001b[0m\u001b[0;34m\u001b[0m\u001b[0;34m\u001b[0m\u001b[0;34m\u001b[0m\u001b[0m\n\u001b[1;32m     44\u001b[0m             \u001b[0mns_fitness\u001b[0m \u001b[0;34m=\u001b[0m \u001b[0;34m(\u001b[0m\u001b[0;34m[\u001b[0m\u001b[0mn\u001b[0m\u001b[0;34m.\u001b[0m\u001b[0mfitness\u001b[0m \u001b[0;32mfor\u001b[0m \u001b[0mn\u001b[0m \u001b[0;32min\u001b[0m \u001b[0mind\u001b[0m\u001b[0;34m.\u001b[0m\u001b[0mneighbours\u001b[0m\u001b[0;34m]\u001b[0m \u001b[0;34m*\u001b[0m \u001b[0mnp\u001b[0m\u001b[0;34m.\u001b[0m\u001b[0marray\u001b[0m\u001b[0;34m(\u001b[0m\u001b[0mm\u001b[0m\u001b[0;34m)\u001b[0m\u001b[0;34m)\u001b[0m\u001b[0;34m.\u001b[0m\u001b[0mtolist\u001b[0m\u001b[0;34m(\u001b[0m\u001b[0;34m)\u001b[0m\u001b[0;34m\u001b[0m\u001b[0;34m\u001b[0m\u001b[0m\n",
      "\u001b[0;32m~/nova/spring_21/CIFO/library/ks.py\u001b[0m in \u001b[0;36mgetFitness\u001b[0;34m(individual)\u001b[0m\n\u001b[1;32m     11\u001b[0m     \"\"\"\n\u001b[1;32m     12\u001b[0m     \u001b[0;31m# simplify code\u001b[0m\u001b[0;34m\u001b[0m\u001b[0;34m\u001b[0m\u001b[0;34m\u001b[0m\u001b[0m\n\u001b[0;32m---> 13\u001b[0;31m     \u001b[0mrep\u001b[0m \u001b[0;34m=\u001b[0m \u001b[0mindividual\u001b[0m\u001b[0;34m.\u001b[0m\u001b[0mrepresentation\u001b[0m\u001b[0;34m\u001b[0m\u001b[0;34m\u001b[0m\u001b[0m\n\u001b[0m\u001b[1;32m     14\u001b[0m     \u001b[0;31m# calculate fitness\u001b[0m\u001b[0;34m\u001b[0m\u001b[0;34m\u001b[0m\u001b[0;34m\u001b[0m\u001b[0m\n\u001b[1;32m     15\u001b[0m     \u001b[0mindividual\u001b[0m\u001b[0;34m.\u001b[0m\u001b[0mweight\u001b[0m \u001b[0;34m=\u001b[0m \u001b[0msum\u001b[0m\u001b[0;34m(\u001b[0m\u001b[0mrep\u001b[0m \u001b[0;34m*\u001b[0m \u001b[0mnp\u001b[0m\u001b[0;34m.\u001b[0m\u001b[0marray\u001b[0m\u001b[0;34m(\u001b[0m\u001b[0mweights\u001b[0m\u001b[0;34m)\u001b[0m\u001b[0;34m)\u001b[0m\u001b[0;34m\u001b[0m\u001b[0;34m\u001b[0m\u001b[0m\n",
      "\u001b[0;31mAttributeError\u001b[0m: 'list' object has no attribute 'representation'"
     ]
    }
   ],
   "source": [
    "valid_set = [0, 1]\n",
    "pop_number = 20\n",
    "individuals = [\n",
    "    Individual([random.choice(valid_set) for i in range(len(values))])\n",
    "    for _ in range(pop_number)\n",
    "]\n",
    "pop = Population(individuals=individuals, optimization=\"min\",)\n",
    "hill_climb(pop=pop, getFitness=ks.getFitness, getNeighbours=ks.getNeighbours)"
   ]
  },
  {
   "cell_type": "code",
   "execution_count": null,
   "metadata": {},
   "outputs": [],
   "source": []
  }
 ],
 "metadata": {
  "kernelspec": {
   "display_name": "Python 3.9.4 64-bit ('cifo': conda)",
   "name": "python394jvsc74a57bd0d355ee31474a990ffff3bf947ca204a3ec42c460154f7a4a19b84b857dd5a18c"
  },
  "language_info": {
   "codemirror_mode": {
    "name": "ipython",
    "version": 3
   },
   "file_extension": ".py",
   "mimetype": "text/x-python",
   "name": "python",
   "nbconvert_exporter": "python",
   "pygments_lexer": "ipython3",
   "version": "3.9.4"
  },
  "metadata": {
   "interpreter": {
    "hash": "d355ee31474a990ffff3bf947ca204a3ec42c460154f7a4a19b84b857dd5a18c"
   }
  },
  "orig_nbformat": 2
 },
 "nbformat": 4,
 "nbformat_minor": 2
}