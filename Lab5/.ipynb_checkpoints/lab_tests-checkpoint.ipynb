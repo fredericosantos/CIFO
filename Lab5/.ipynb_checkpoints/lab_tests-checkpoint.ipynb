{
 "cells": [
  {
   "cell_type": "code",
   "execution_count": 1,
   "metadata": {},
   "outputs": [],
   "source": [
    "from charles.charles import Population, Individual\n",
    "from charles.search import hill_climb, sim_annealing\n",
    "from copy import deepcopy\n",
    "from data.ks_data import weights, values, capacity\n",
    "from charles.selection import fps\n",
    "from charles.mutation import binary_mutation\n",
    "from charles.crossover import single_point_co\n",
    "from random import random\n",
    "from operator import  attrgetter"
   ]
  },
  {
   "cell_type": "code",
   "execution_count": 5,
   "metadata": {},
   "outputs": [],
   "source": [
    "def evaluate(self):\n",
    "    fitness = 0\n",
    "    weight = 0\n",
    "    for bit in range(len(self.representation)):\n",
    "        if self.representation[bit] == 1:\n",
    "            fitness += values[bit]\n",
    "            weight += weights[bit]\n",
    "    if weight > capacity:\n",
    "        fitness = capacity-weight\n",
    "    return fitness\n",
    "def get_neighbours(self):\n",
    "\n",
    "\n",
    "    n = [deepcopy(self.representation) for i in range(len(self.representation))]\n",
    "    for count, i in enumerate(n):\n",
    "        if i[count] == 1:\n",
    "            i[count] = 0\n",
    "        elif i[count] == 0:\n",
    "            i[count] = 1\n",
    "\n",
    "    n = [Individual(i) for i in n]\n",
    "    return n\n",
    "\n",
    "Individual.evaluate = evaluate\n",
    "Individual.get_neighbours = get_neighbours\n",
    "\n",
    "pop = Population(\n",
    "    size=20, optim=\"min\", sol_size=len(values), valid_set=[0, 1], replacement=True\n",
    ")"
   ]
  },
  {
   "cell_type": "code",
   "execution_count": 12,
   "metadata": {},
   "outputs": [
    {
     "data": {
      "text/plain": "94"
     },
     "execution_count": 12,
     "metadata": {},
     "output_type": "execute_result"
    }
   ],
   "source": [
    "for indv in pop.individuals:\n",
    "    indv.fitness *= -1"
   ]
  },
  {
   "cell_type": "code",
   "execution_count": 6,
   "metadata": {},
   "outputs": [
    {
     "data": {
      "text/plain": "Individual(size=50); Fitness: -87"
     },
     "execution_count": 6,
     "metadata": {},
     "output_type": "execute_result"
    }
   ],
   "source": [
    "pop.individuals[0].get_neighbours()[0]"
   ]
  },
  {
   "cell_type": "code",
   "execution_count": 7,
   "metadata": {},
   "outputs": [
    {
     "name": "stdout",
     "output_type": "stream",
     "text": [
      "Best solution found: Individual(size=50); Fitness: -1024\n"
     ]
    },
    {
     "data": {
      "text/plain": "Individual(size=50); Fitness: -1024"
     },
     "execution_count": 7,
     "metadata": {},
     "output_type": "execute_result"
    }
   ],
   "source": [
    "hill_climb(pop)"
   ]
  }
 ],
 "metadata": {
  "kernelspec": {
   "display_name": "Python 3.9.4 64-bit ('cifo': conda)",
   "name": "python394jvsc74a57bd0d355ee31474a990ffff3bf947ca204a3ec42c460154f7a4a19b84b857dd5a18c"
  },
  "language_info": {
   "codemirror_mode": {
    "name": "ipython",
    "version": 3
   },
   "file_extension": ".py",
   "mimetype": "text/x-python",
   "name": "python",
   "nbconvert_exporter": "python",
   "pygments_lexer": "ipython3",
   "version": "3.9.4"
  },
  "metadata": {
   "interpreter": {
    "hash": "d355ee31474a990ffff3bf947ca204a3ec42c460154f7a4a19b84b857dd5a18c"
   }
  },
  "orig_nbformat": 2
 },
 "nbformat": 4,
 "nbformat_minor": 2
}