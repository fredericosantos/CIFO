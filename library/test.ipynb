{
 "cells": [
  {
   "cell_type": "code",
   "execution_count": 56,
   "metadata": {},
   "outputs": [],
   "source": [
    "from tsp_data import distance_matrix\n",
    "from ks_data import values, weights\n",
    "from main import Individual, Population\n",
    "import tsp, ks\n",
    "from hill_climbing.hc import hill_climb\n",
    "from simulated_annealing.sa import simulated_annealing\n",
    "import numpy as np\n",
    "import random"
   ]
  },
  {
   "cell_type": "markdown",
   "metadata": {},
   "source": [
    "#### TSP"
   ]
  },
  {
   "cell_type": "code",
   "execution_count": 57,
   "metadata": {},
   "outputs": [
    {
     "name": "stdout",
     "output_type": "stream",
     "text": [
      "\n",
      "ind.fitness = 16826\n",
      "ind_representation_str = '1152912674011038'\n",
      "best_n.fitness = 13650 ;; ind.fitness = 16826 ;; diff = 3176\n",
      "(best_n.fitness * m) = -13650 > (ind.fitness * m) = -16826\n",
      "\n",
      "ind.fitness = 13650\n",
      "ind_representation_str = '1152912670411038'\n",
      "best_n.fitness = 13492 ;; ind.fitness = 13650 ;; diff = 158\n",
      "(best_n.fitness * m) = -13492 > (ind.fitness * m) = -13650\n",
      "\n",
      "ind.fitness = 13492\n",
      "ind_representation_str = '1159212670411038'\n",
      "best_n.fitness = 13545 ;; ind.fitness = 13492 ;; diff = -53\n"
     ]
    },
    {
     "data": {
      "text/plain": "Individual <13492>"
     },
     "execution_count": 57,
     "metadata": {},
     "output_type": "execute_result"
    }
   ],
   "source": [
    "# Hill Climbing\n",
    "valid_set = range(len(distance_matrix))\n",
    "pop_number = 1\n",
    "individuals = [\n",
    "    Individual(random.sample(valid_set, len(distance_matrix)))\n",
    "    for _ in range(pop_number)\n",
    "]\n",
    "pop = Population(individuals=individuals, optimization=\"min\",)\n",
    "hill_climb(pop=pop, getFitness=tsp.getFitness, getNeighbours=tsp.getNeighbours)"
   ]
  },
  {
   "cell_type": "code",
   "execution_count": 58,
   "metadata": {},
   "outputs": [
    {
     "data": {
      "text/plain": "Individual <10353>"
     },
     "execution_count": 58,
     "metadata": {},
     "output_type": "execute_result"
    }
   ],
   "source": [
    "# Simulated Annealing\n",
    "valid_set = range(len(distance_matrix))\n",
    "pop_number = 1\n",
    "individuals = [\n",
    "    Individual(random.sample(valid_set, len(distance_matrix)))\n",
    "    for _ in range(pop_number)\n",
    "]\n",
    "pop = Population(individuals=individuals, optimization=\"min\",)\n",
    "simulated_annealing(pop=pop, getFitness=tsp.getFitness, getNeighbours=tsp.getNeighbours, L=1000, c=200)\n"
   ]
  },
  {
   "cell_type": "markdown",
   "metadata": {},
   "source": [
    "#### KS"
   ]
  },
  {
   "cell_type": "code",
   "execution_count": 59,
   "metadata": {},
   "outputs": [
    {
     "name": "stdout",
     "output_type": "stream",
     "text": [
      "\n",
      "ind.fitness = -41\n",
      "ind_representation_str = '10100110010001011010100000011011001110101110111010'\n",
      "best_n.fitness = 3126 ;; ind.fitness = -41 ;; diff = -3167\n",
      "(best_n.fitness * m) = 3126 > (ind.fitness * m) = -41\n",
      "\n",
      "ind.fitness = 3126\n",
      "ind_representation_str = '10100110010001011010100000011011001110101110101010'\n",
      "best_n.fitness = 4018 ;; ind.fitness = 3126 ;; diff = -892\n",
      "(best_n.fitness * m) = 4018 > (ind.fitness * m) = 3126\n",
      "\n",
      "ind.fitness = 4018\n",
      "ind_representation_str = '10100110010101011010100000011011001110101110101010'\n",
      "best_n.fitness = 4618 ;; ind.fitness = 4018 ;; diff = -600\n",
      "(best_n.fitness * m) = 4618 > (ind.fitness * m) = 4018\n",
      "\n",
      "ind.fitness = 4618\n",
      "ind_representation_str = '10100110010111011010100000011011001110101110101010'\n",
      "best_n.fitness = 4705 ;; ind.fitness = 4618 ;; diff = -87\n",
      "(best_n.fitness * m) = 4705 > (ind.fitness * m) = 4618\n",
      "\n",
      "ind.fitness = 4705\n",
      "ind_representation_str = '10100110010111011010100000011011101110101110101010'\n",
      "best_n.fitness = 4788 ;; ind.fitness = 4705 ;; diff = -83\n",
      "(best_n.fitness * m) = 4788 > (ind.fitness * m) = 4705\n",
      "\n",
      "ind.fitness = 4788\n",
      "ind_representation_str = '11100110010111011010100000011011101110101110101010'\n",
      "best_n.fitness = 4805 ;; ind.fitness = 4788 ;; diff = -17\n",
      "(best_n.fitness * m) = 4805 > (ind.fitness * m) = 4788\n",
      "\n",
      "ind.fitness = 4805\n",
      "ind_representation_str = '11100110010111011011100000011011101110101110101010'\n",
      "best_n.fitness = 4790 ;; ind.fitness = 4805 ;; diff = 15\n"
     ]
    },
    {
     "data": {
      "text/plain": "Individual <4805>"
     },
     "execution_count": 59,
     "metadata": {},
     "output_type": "execute_result"
    }
   ],
   "source": [
    "# Hill Climbing\n",
    "valid_set = [0, 1]\n",
    "pop_number = 1\n",
    "individuals = [\n",
    "    Individual([random.choice(valid_set) for i in range(len(values))])\n",
    "    for _ in range(pop_number)\n",
    "]\n",
    "pop = Population(individuals=individuals, optimization=\"max\")\n",
    "hill_climb(pop=pop, getFitness=ks.getFitness, getNeighbours=ks.getNeighbours)"
   ]
  },
  {
   "cell_type": "code",
   "execution_count": 60,
   "metadata": {},
   "outputs": [
    {
     "data": {
      "text/plain": "Individual <7055>"
     },
     "execution_count": 60,
     "metadata": {},
     "output_type": "execute_result"
    }
   ],
   "source": [
    "# Simulated Annealing\n",
    "valid_set = [0, 1]\n",
    "pop_number = 20\n",
    "individuals = [\n",
    "    Individual([random.choice(valid_set) for i in range(len(values))])\n",
    "    for _ in range(pop_number)\n",
    "]\n",
    "pop = Population(individuals=individuals, optimization=\"max\")\n",
    "simulated_annealing(pop=pop, getFitness=ks.getFitness, getNeighbours=ks.getNeighbours, L=100, c=200)"
   ]
  },
  {
   "cell_type": "code",
   "execution_count": null,
   "metadata": {},
   "outputs": [],
   "source": []
  }
 ],
 "metadata": {
  "kernelspec": {
   "display_name": "Python 3.9.4 64-bit ('cifo': conda)",
   "name": "python394jvsc74a57bd0d355ee31474a990ffff3bf947ca204a3ec42c460154f7a4a19b84b857dd5a18c"
  },
  "language_info": {
   "codemirror_mode": {
    "name": "ipython",
    "version": 3
   },
   "file_extension": ".py",
   "mimetype": "text/x-python",
   "name": "python",
   "nbconvert_exporter": "python",
   "pygments_lexer": "ipython3",
   "version": "3.9.4"
  },
  "metadata": {
   "interpreter": {
    "hash": "d355ee31474a990ffff3bf947ca204a3ec42c460154f7a4a19b84b857dd5a18c"
   }
  },
  "orig_nbformat": 2
 },
 "nbformat": 4,
 "nbformat_minor": 2
}