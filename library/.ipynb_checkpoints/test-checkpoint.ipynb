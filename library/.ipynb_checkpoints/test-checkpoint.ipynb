{
 "cells": [
  {
   "cell_type": "code",
   "execution_count": 1,
   "metadata": {},
   "outputs": [],
   "source": [
    "from tsp_data import distance_matrix\n",
    "from ks_data import values, weights\n",
    "from main import Individual, Population\n",
    "import tsp, ks\n",
    "from hill_climbing.hc import hill_climb\n",
    "from simulated_annealing.sa import simulated_annealing\n",
    "import numpy as np\n",
    "import random\n"
   ]
  },
  {
   "cell_type": "markdown",
   "metadata": {},
   "source": [
    "#### TSP"
   ]
  },
  {
   "cell_type": "code",
   "execution_count": 2,
   "metadata": {},
   "outputs": [],
   "source": [
    "# Hill Climbing\n",
    "valid_set = range(len(distance_matrix))\n",
    "pop_number = 10\n",
    "individuals = [\n",
    "    Individual(random.sample(valid_set, len(distance_matrix)))\n",
    "    for _ in range(pop_number)\n",
    "]\n",
    "pop = Population(individuals=individuals, optimization=\"min\", n_elites=2)\n",
    "hill_climb(pop=pop, getFitness=tsp.getFitness, getNeighbours=tsp.getNeighbours, verbose=False)"
   ]
  },
  {
   "cell_type": "code",
   "execution_count": 3,
   "metadata": {},
   "outputs": [
    {
     "name": "stdout",
     "output_type": "stream",
     "text": [
      "[Individual <13498>, Individual <12744>, Individual <12683>, Individual <13480>, Individual <10444>, Individual <13138>, Individual <12819>, Individual <13343>, Individual <11367>, Individual <14720>]\n",
      "[Individual <10444>, Individual <11367>]\n"
     ]
    }
   ],
   "source": [
    "print(pop.individuals)\n",
    "print(pop.elites)"
   ]
  },
  {
   "cell_type": "code",
   "execution_count": 4,
   "metadata": {},
   "outputs": [],
   "source": [
    "# Simulated Annealing\n",
    "valid_set = range(len(distance_matrix))\n",
    "pop_number = 20\n",
    "individuals = [\n",
    "    Individual(random.sample(valid_set, len(distance_matrix)))\n",
    "    for _ in range(pop_number)\n",
    "]\n",
    "\n",
    "pop = Population(individuals=individuals, optimization=\"min\", n_elites=1)\n",
    "simulated_annealing(\n",
    "    pop=pop, getFitness=tsp.getFitness, getNeighbours=tsp.getNeighbours, L=100, c=100\n",
    ")\n",
    "\n"
   ]
  },
  {
   "cell_type": "code",
   "execution_count": 5,
   "metadata": {},
   "outputs": [
    {
     "name": "stdout",
     "output_type": "stream",
     "text": [
      "[Individual <7909>, Individual <10749>, Individual <12093>, Individual <7586>, Individual <9543>, Individual <8837>, Individual <7610>, Individual <11656>, Individual <12403>, Individual <10870>, Individual <12120>, Individual <8600>, Individual <9430>, Individual <12507>, Individual <9568>, Individual <7678>, Individual <8914>, Individual <11614>, Individual <10609>, Individual <11627>]\n",
      "[Individual <7586>]\n"
     ]
    }
   ],
   "source": [
    "print(pop.individuals)\n",
    "print(pop.elites)"
   ]
  },
  {
   "cell_type": "code",
   "execution_count": 6,
   "metadata": {},
   "outputs": [],
   "source": [
    "individuals = [\n",
    "    Individual(random.sample(valid_set, len(distance_matrix)))\n",
    "    for _ in range(pop_number)\n",
    "]\n",
    "pop1 = Population(individuals=individuals, optimization=\"min\", n_elites=2)"
   ]
  },
  {
   "cell_type": "code",
   "execution_count": 64,
   "metadata": {},
   "outputs": [
    {
     "data": {
      "text/plain": "[Individual <11899>,\n Individual <10088>,\n Individual <10989>,\n Individual <8192>,\n Individual <11500>,\n Individual <12130>,\n Individual <9716>,\n Individual <10491>,\n Individual <11884>,\n Individual <12859>,\n Individual <12612>,\n Individual <12527>,\n Individual <9805>,\n Individual <14725>,\n Individual <10958>,\n Individual <12248>,\n Individual <10226>,\n Individual <10489>,\n Individual <11080>,\n Individual <11473>]"
     },
     "execution_count": 64,
     "metadata": {},
     "output_type": "execute_result"
    }
   ],
   "source": [
    "pop.individuals"
   ]
  },
  {
   "cell_type": "markdown",
   "metadata": {},
   "source": [
    "#### KS"
   ]
  },
  {
   "cell_type": "code",
   "execution_count": 59,
   "metadata": {},
   "outputs": [
    {
     "name": "stdout",
     "output_type": "stream",
     "text": [
      "\n",
      "ind.fitness = -41\n",
      "ind_representation_str = '10100110010001011010100000011011001110101110111010'\n",
      "best_n.fitness = 3126 ;; ind.fitness = -41 ;; diff = -3167\n",
      "(best_n.fitness * m) = 3126 > (ind.fitness * m) = -41\n",
      "\n",
      "ind.fitness = 3126\n",
      "ind_representation_str = '10100110010001011010100000011011001110101110101010'\n",
      "best_n.fitness = 4018 ;; ind.fitness = 3126 ;; diff = -892\n",
      "(best_n.fitness * m) = 4018 > (ind.fitness * m) = 3126\n",
      "\n",
      "ind.fitness = 4018\n",
      "ind_representation_str = '10100110010101011010100000011011001110101110101010'\n",
      "best_n.fitness = 4618 ;; ind.fitness = 4018 ;; diff = -600\n",
      "(best_n.fitness * m) = 4618 > (ind.fitness * m) = 4018\n",
      "\n",
      "ind.fitness = 4618\n",
      "ind_representation_str = '10100110010111011010100000011011001110101110101010'\n",
      "best_n.fitness = 4705 ;; ind.fitness = 4618 ;; diff = -87\n",
      "(best_n.fitness * m) = 4705 > (ind.fitness * m) = 4618\n",
      "\n",
      "ind.fitness = 4705\n",
      "ind_representation_str = '10100110010111011010100000011011101110101110101010'\n",
      "best_n.fitness = 4788 ;; ind.fitness = 4705 ;; diff = -83\n",
      "(best_n.fitness * m) = 4788 > (ind.fitness * m) = 4705\n",
      "\n",
      "ind.fitness = 4788\n",
      "ind_representation_str = '11100110010111011010100000011011101110101110101010'\n",
      "best_n.fitness = 4805 ;; ind.fitness = 4788 ;; diff = -17\n",
      "(best_n.fitness * m) = 4805 > (ind.fitness * m) = 4788\n",
      "\n",
      "ind.fitness = 4805\n",
      "ind_representation_str = '11100110010111011011100000011011101110101110101010'\n",
      "best_n.fitness = 4790 ;; ind.fitness = 4805 ;; diff = 15\n"
     ]
    },
    {
     "data": {
      "text/plain": "Individual <4805>"
     },
     "execution_count": 59,
     "metadata": {},
     "output_type": "execute_result"
    }
   ],
   "source": [
    "# Hill Climbing\n",
    "valid_set = [0, 1]\n",
    "pop_number = 1\n",
    "individuals = [\n",
    "    Individual([random.choice(valid_set) for i in range(len(values))])\n",
    "    for _ in range(pop_number)\n",
    "]\n",
    "pop = Population(individuals=individuals, optimization=\"max\")\n",
    "hill_climb(pop=pop, getFitness=ks.getFitness, getNeighbours=ks.getNeighbours)"
   ]
  },
  {
   "cell_type": "code",
   "execution_count": 60,
   "metadata": {},
   "outputs": [
    {
     "data": {
      "text/plain": "Individual <7055>"
     },
     "execution_count": 60,
     "metadata": {},
     "output_type": "execute_result"
    }
   ],
   "source": [
    "# Simulated Annealing\n",
    "valid_set = [0, 1]\n",
    "pop_number = 20\n",
    "individuals = [\n",
    "    Individual([random.choice(valid_set) for i in range(len(values))])\n",
    "    for _ in range(pop_number)\n",
    "]\n",
    "pop = Population(individuals=individuals, optimization=\"max\")\n",
    "simulated_annealing(pop=pop, getFitness=ks.getFitness, getNeighbours=ks.getNeighbours, L=100, c=200)"
   ]
  },
  {
   "cell_type": "code",
   "execution_count": null,
   "metadata": {},
   "outputs": [],
   "source": []
  }
 ],
 "metadata": {
  "kernelspec": {
   "display_name": "Python 3.9.4 64-bit ('base': conda)",
   "name": "python391jvsc74a57bd02c4f2e9e15b567a0842db5150f86c99ceb8bc3e0d4f7509559569966cbc05143"
  },
  "language_info": {
   "name": "python",
   "version": ""
  },
  "metadata": {
   "interpreter": {
    "hash": "2c4f2e9e15b567a0842db5150f86c99ceb8bc3e0d4f7509559569966cbc05143"
   }
  },
  "orig_nbformat": 2
 },
 "nbformat": 4,
 "nbformat_minor": 2
}