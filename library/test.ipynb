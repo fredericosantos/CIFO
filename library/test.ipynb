{
 "cells": [
  {
   "cell_type": "code",
   "execution_count": 1,
   "metadata": {},
   "outputs": [],
   "source": [
    "from tsp_data import distance_matrix\n",
    "from ks_data import values, weights\n",
    "from main import Individual, BasePopulation\n",
    "import tsp, ks\n",
    "from hill_climbing.hc import hill_climb\n",
    "from simulated_annealing.sa import simulated_annealing\n",
    "import numpy as np\n",
    "import random\n"
   ]
  },
  {
   "cell_type": "markdown",
   "metadata": {},
   "source": [
    "#### TSP"
   ]
  },
  {
   "cell_type": "code",
   "execution_count": 3,
   "metadata": {},
   "outputs": [],
   "source": [
    "# Hill Climbing\n",
    "valid_set = range(len(distance_matrix))\n",
    "pop_number = 10\n",
    "individuals = [\n",
    "    Individual(random.sample(valid_set, len(distance_matrix)))\n",
    "    for _ in range(pop_number)\n",
    "]\n",
    "pop = tsp.Population(individuals=individuals, optimization=\"min\", n_elites=2)\n",
    "hill_climb(pop=pop, verbose=False)"
   ]
  },
  {
   "cell_type": "code",
   "execution_count": 3,
   "metadata": {},
   "outputs": [
    {
     "name": "stdout",
     "output_type": "stream",
     "text": [
      "[Individual <12135>, Individual <10682>, Individual <11847>, Individual <15384>, Individual <12558>, Individual <12244>, Individual <12949>, Individual <11467>, Individual <8873>, Individual <10407>]\n",
      "[Individual <8873>, Individual <10407>]\n"
     ]
    }
   ],
   "source": [
    "print(pop.individuals)\n",
    "print(pop.elites)"
   ]
  },
  {
   "cell_type": "code",
   "execution_count": 4,
   "metadata": {},
   "outputs": [],
   "source": [
    "# Simulated Annealing\n",
    "valid_set = range(len(distance_matrix))\n",
    "pop_number = 20\n",
    "individuals = [\n",
    "    Individual(random.sample(valid_set, len(distance_matrix)))\n",
    "    for _ in range(pop_number)\n",
    "]\n",
    "\n",
    "pop = tsp.Population(individuals=individuals, optimization=\"min\", n_elites=1)\n",
    "simulated_annealing(\n",
    "    pop=pop, L=100, c=100\n",
    ")\n",
    "\n"
   ]
  },
  {
   "cell_type": "code",
   "execution_count": 5,
   "metadata": {},
   "outputs": [
    {
     "name": "stdout",
     "output_type": "stream",
     "text": [
      "[Individual <8312>, Individual <11470>, Individual <11307>, Individual <9928>, Individual <11542>, Individual <12363>, Individual <11473>, Individual <12599>, Individual <12366>, Individual <12525>, Individual <8609>, Individual <12313>, Individual <8839>, Individual <10660>, Individual <10633>, Individual <10783>, Individual <10059>, Individual <8278>, Individual <7692>, Individual <9284>]\n",
      "[Individual <7692>]\n"
     ]
    }
   ],
   "source": [
    "print(pop.individuals)\n",
    "print(pop.elites)"
   ]
  },
  {
   "cell_type": "code",
   "execution_count": 6,
   "metadata": {},
   "outputs": [],
   "source": [
    "individuals = [\n",
    "    Individual(random.sample(valid_set, len(distance_matrix)))\n",
    "    for _ in range(pop_number)\n",
    "]\n",
    "pop1 = tsp.Population(individuals=individuals, optimization=\"min\", n_elites=2)"
   ]
  },
  {
   "cell_type": "code",
   "execution_count": 7,
   "metadata": {},
   "outputs": [
    {
     "data": {
      "text/plain": [
       "[Individual <8312>,\n",
       " Individual <11470>,\n",
       " Individual <11307>,\n",
       " Individual <9928>,\n",
       " Individual <11542>,\n",
       " Individual <12363>,\n",
       " Individual <11473>,\n",
       " Individual <12599>,\n",
       " Individual <12366>,\n",
       " Individual <12525>,\n",
       " Individual <8609>,\n",
       " Individual <12313>,\n",
       " Individual <8839>,\n",
       " Individual <10660>,\n",
       " Individual <10633>,\n",
       " Individual <10783>,\n",
       " Individual <10059>,\n",
       " Individual <8278>,\n",
       " Individual <7692>,\n",
       " Individual <9284>]"
      ]
     },
     "execution_count": 7,
     "metadata": {},
     "output_type": "execute_result"
    }
   ],
   "source": [
    "pop.individuals"
   ]
  },
  {
   "cell_type": "markdown",
   "metadata": {},
   "source": [
    "#### KS"
   ]
  },
  {
   "cell_type": "code",
   "execution_count": 8,
   "metadata": {},
   "outputs": [],
   "source": [
    "# Hill Climbing\n",
    "valid_set = [0, 1]\n",
    "pop_number = 1\n",
    "individuals = [\n",
    "    Individual([random.choice(valid_set) for i in range(len(values))])\n",
    "    for _ in range(pop_number)\n",
    "]\n",
    "pop = ks.Population(individuals=individuals, optimization=\"max\")\n",
    "hill_climb(pop=pop)"
   ]
  },
  {
   "cell_type": "code",
   "execution_count": 4,
   "metadata": {},
   "outputs": [],
   "source": [
    "# Simulated Annealing\n",
    "valid_set = [0, 1]\n",
    "pop_number = 20\n",
    "individuals = [\n",
    "    Individual([random.choice(valid_set) for i in range(len(values))])\n",
    "    for _ in range(pop_number)\n",
    "]\n",
    "pop = ks.Population(individuals=individuals, optimization=\"max\")\n",
    "simulated_annealing(pop=pop, L=100, c=200)"
   ]
  },
  {
   "cell_type": "markdown",
   "metadata": {},
   "source": [
    "#### **Coding**"
   ]
  },
  {
   "cell_type": "code",
   "execution_count": 81,
   "metadata": {},
   "outputs": [
    {
     "data": {
      "text/plain": "([0, 8, 6, 1, 3, 4, 2, 5, 9, 7], [3, 4, 1, 5, 9, 2, 7, 6, 0, 8])"
     },
     "execution_count": 81,
     "metadata": {},
     "output_type": "execute_result"
    }
   ],
   "source": [
    "p1 = list(range(10))\n",
    "random.shuffle(p1)\n",
    "p2 = list(range(10))\n",
    "random.shuffle(p2)\n",
    "p1, p2"
   ]
  },
  {
   "cell_type": "code",
   "execution_count": null,
   "metadata": {},
   "outputs": [],
   "source": []
  }
 ],
 "metadata": {
  "interpreter": {
   "hash": "2c4f2e9e15b567a0842db5150f86c99ceb8bc3e0d4f7509559569966cbc05143"
  },
  "kernelspec": {
   "display_name": "Python 3.9.4 64-bit ('base': conda)",
   "name": "python3"
  },
  "language_info": {
   "codemirror_mode": {
    "name": "ipython",
    "version": 3
   },
   "file_extension": ".py",
   "mimetype": "text/x-python",
   "name": "python",
   "nbconvert_exporter": "python",
   "pygments_lexer": "ipython3",
   "version": "3.9.4"
  },
  "metadata": {
   "interpreter": {
    "hash": "2c4f2e9e15b567a0842db5150f86c99ceb8bc3e0d4f7509559569966cbc05143"
   }
  }
 },
 "nbformat": 4,
 "nbformat_minor": 4
}